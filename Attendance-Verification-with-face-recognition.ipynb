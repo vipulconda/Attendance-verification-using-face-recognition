{
  "cells": [
    {
      "cell_type": "code",
      "execution_count": 12,
      "metadata": {
        "id": "VIInYVl38tOJ"
      },
      "outputs": [],
      "source": [
        "# Import necessary libraries\n",
        "import cv2\n",
        "import os\n",
        "\n",
        "# Initialize the camera\n",
        "cap = cv2.VideoCapture(0)\n",
        "\n",
        "# Create a directory for storing the dataset\n",
        "if not os.path.exists(\"dataset\"):\n",
        "    os.makedirs(\"dataset\")\n",
        "\n",
        "# Create a dataset\n",
        "count = 0\n",
        "while True:\n",
        "    ret, frame = cap.read()\n",
        "    cv2.imshow(\"frame\", frame)\n",
        "    if cv2.waitKey(1) == ord('q'):\n",
        "        break\n",
        "    if cv2.waitKey(1) == ord('s'):\n",
        "        count += 1\n",
        "        filename = \"dataset/user_\" + str(count) + \".jpg\"\n",
        "        cv2.imwrite(filename, frame)\n",
        "cap.release()\n",
        "cv2.destroyAllWindows()\n"
      ]
    },
    {
      "cell_type": "code",
      "execution_count": 6,
      "metadata": {
        "id": "Ug4ovVgA8uJN"
      },
      "outputs": [],
      "source": [
        "# Import necessary libraries\n",
        "import face_recognition\n",
        "import os\n",
        "import numpy as np\n",
        "\n",
        "# Create a directory for storing the embeddings\n",
        "if not os.path.exists(\"embeddings\"):\n",
        "    os.makedirs(\"embeddings\")\n",
        "\n",
        "# Load the images\n",
        "image_paths = [os.path.join(\"dataset\", f) for f in os.listdir(\"dataset\")]\n",
        "images = []\n",
        "for image_path in image_paths:\n",
        "    image = face_recognition.load_image_file(image_path)\n",
        "    images.append(image)\n",
        "\n",
        "# Compute the face embeddings\n",
        "embeddings = []\n",
        "for image in images:\n",
        "    face_locations = face_recognition.face_locations(image)\n",
        "    face_encodings = face_recognition.face_encodings(image, face_locations)\n",
        "    if len(face_encodings) == 1:\n",
        "        embeddings.append(face_encodings[0])\n",
        "\n",
        "# Save the embeddings\n",
        "np.savetxt(\"embeddings/embeddings.txt\", embeddings)\n"
      ]
    },
    {
      "cell_type": "code",
      "execution_count": null,
      "metadata": {
        "id": "xU2NhmzU8wqt"
      },
      "outputs": [],
      "source": [
        "# Import necessary libraries\n",
        "import cv2\n",
        "import face_recognition\n",
        "import numpy as np\n",
        "import os\n",
        "import json\n",
        "from datetime import datetime\n"
      ]
    },
    {
      "cell_type": "code",
      "execution_count": null,
      "metadata": {
        "id": "1WOpb_7580qC"
      },
      "outputs": [],
      "source": [
        "# Load the embeddings\n",
        "embeddings = np.loadtxt(\"embeddings/embeddings.txt\")\n"
      ]
    },
    {
      "cell_type": "code",
      "execution_count": null,
      "metadata": {
        "id": "wdvlbDsi858A"
      },
      "outputs": [],
      "source": [
        "# Initialize the camera\n",
        "cap = cv2.VideoCapture(0)\n"
      ]
    },
    {
      "cell_type": "code",
      "execution_count": null,
      "metadata": {
        "id": "cqnqmyXD8-Kv"
      },
      "outputs": [],
      "source": [
        "# Load the attendance log\n",
        "if not os.path.exists(\"attendance.json\"):\n",
        "    with open(\"attendance.json\", \"w\") as f:\n",
        "        json.dump({}, f)\n",
        "with open(\"attendance.json\", \"r\") as f:\n",
        "    attendance = json.load(f)\n"
      ]
    },
    {
      "cell_type": "code",
      "execution_count": null,
      "metadata": {
        "id": "83MfecM59A9k"
      },
      "outputs": [],
      "source": [
        "# Recognize the faces and mark attendance\n",
        "while True:\n",
        "    ret, frame = cap.read()\n",
        "    face_locations = face_recognition.face_locations(frame)\n",
        "    face_encodings = face_recognition.face_encodings(frame, face_locations)\n",
        "    for (top, right, bottom, left), face_encoding in zip(face_locations, face_encodings):\n",
        "        matches = face_recognition.compare_faces(embeddings, face_encoding)\n",
        "        if True in matches:\n",
        "            index = matches.index(True)\n",
        "            name = \"user_\" + str(index+1)\n",
        "            if name not in attendance:\n",
        "                attendance[name] = datetime.now().strftime(\"%Y-%m-%d %H:%M:%S\")\n",
        "                with open(\"attendance.json\", \"w\") as f:\n",
        "                    json.dump(attendance, f)\n",
        "            cv2.rectangle(frame, (left, top), (right, bottom), (0, 255, 0), 2)\n",
        "            cv2.putText(frame, name, (left, top-10), cv2.FONT_HERSHEY_SIMPLEX, 0.9, (0, 255, 0), 2)\n",
        "    cv2.imshow(\"frame\", frame)\n",
        "    if cv2.waitKey(1) == ord('q'):\n",
        "        break\n",
        "cap.release()\n",
        "cv2.destroyAllWindows()\n",
        "\n"
      ]
    },
    {
      "cell_type": "code",
      "execution_count": null,
      "metadata": {
        "id": "ayLbU0zi9Ioi"
      },
      "outputs": [],
      "source": [
        "import pandas as pd\n",
        "\n",
        "# Load the attendance log from the JSON file\n",
        "with open('attendance.json', 'r') as f:\n",
        "    attendance_log = json.load(f)\n",
        "\n",
        "# Convert the attendance log to a Pandas dataframe\n",
        "df = pd.DataFrame(attendance_log)\n",
        "\n",
        "# Write the attendance data to an Excel file\n",
        "writer = pd.ExcelWriter('attendance_log.xlsx')\n",
        "df.to_excel(writer, index=False)\n",
        "writer.save()\n",
        "\n"
      ]
    },
    {
      "cell_type": "code",
      "execution_count": null,
      "metadata": {
        "id": "njAFwUOD9Llo"
      },
      "outputs": [],
      "source": []
    }
  ],
  "metadata": {
    "colab": {
      "provenance": []
    },
    "kernelspec": {
      "display_name": "Python 3",
      "name": "python3"
    },
    "language_info": {
      "codemirror_mode": {
        "name": "ipython",
        "version": 3
      },
      "file_extension": ".py",
      "mimetype": "text/x-python",
      "name": "python",
      "nbconvert_exporter": "python",
      "pygments_lexer": "ipython3",
      "version": "3.10.11"
    }
  },
  "nbformat": 4,
  "nbformat_minor": 0
}
